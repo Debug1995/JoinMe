{
 "cells": [
  {
   "cell_type": "raw",
   "metadata": {},
   "source": [
    "1. sign-in auth: grant permission with permisson scopes --> get authorization code\n",
    "2. exchange authorization code for an access token: authorization code is a one-time code\n",
    "3. access toke: pass to Gmail API to acces to user data for a limited time\n",
    "\n",
    "pip install --upgrade google-api-python-client oauth2client\n",
    "pip install email\n",
    "pip install pybase64"
   ]
  },
  {
   "cell_type": "code",
   "execution_count": 2,
   "metadata": {},
   "outputs": [],
   "source": [
    "import logging\n",
    "from oauth2client.client import flow_from_clientsecrets\n",
    "from oauth2client.client import FlowExchangeError\n",
    "from apiclient.discovery import build\n",
    "\n",
    "SECRET_LOCATION = 'secret.json'\n",
    "SCOPES = [\n",
    "    'https://www.googleapis.com/auth/gmail.send',\n",
    "    'https://www.googleapis.com/auth/userinfo.email',\n",
    "    'https://www.googleapis.com/auth/userinfo.profile'\n",
    "]"
   ]
  },
  {
   "cell_type": "code",
   "execution_count": 124,
   "metadata": {},
   "outputs": [],
   "source": [
    "import httplib2\n",
    "import base64\n",
    "import json\n",
    "from oauth2client.client import flow_from_clientsecrets\n",
    "from apiclient.discovery import build\n",
    "from email.mime.text import MIMEText\n",
    "\n",
    "class Gmail:\n",
    "    SECRET_LOCATION = 'secret.json'\n",
    "    SCOPES = [\n",
    "        'https://www.googleapis.com/auth/gmail.send',\n",
    "        'https://www.googleapis.com/auth/userinfo.email',\n",
    "        'https://www.googleapis.com/auth/userinfo.profile'\n",
    "    ]\n",
    "    def __init__(self):\n",
    "        self.flow = flow_from_clientsecrets(self.SECRET_LOCATION,\n",
    "                                       scope=' '.join(self.SCOPES),\n",
    "                                       redirect_uri='urn:ietf:wg:oauth:2.0:oob')\n",
    "    def get_autho_uri(self):\n",
    "        autho_uri = self.flow.step1_get_authorize_url()\n",
    "        return autho_uri\n",
    "        \n",
    "    def get_credentials(self, autho_code):\n",
    "        credentials = self.flow.step2_exchange(autho_code)\n",
    "        self.refresh_code = credentials.refresh_token\n",
    "        return credentials\n",
    "    \n",
    "    def build_service(self, credentials):\n",
    "        http = httplib2.Http()\n",
    "        http = credentials.authorize(http)\n",
    "        service = build('gmail', 'v1', http=http)\n",
    "        return service\n",
    "    \n",
    "    def create_message(self, sender, to, subject, message_text):\n",
    "        message = MIMEText(message_text)\n",
    "        message['to'] = to\n",
    "        message['from'] = sender\n",
    "        message['subject'] = subject\n",
    "        b64_bytes = base64.urlsafe_b64encode(message.as_bytes())\n",
    "        b64_string = b64_bytes.decode()\n",
    "        return {'raw' : b64_string}\n",
    "    \n",
    "    def send_message(self, service, user_id, message):\n",
    "        message = (service.users().messages().send(userId=user_id, body=message).execute())\n",
    "        print('Message Id: %s' % message['id'])\n",
    "        return message\n",
    "#         try:\n",
    "#             \n",
    "#         except errors.HttpError as error:\n",
    "#             print('An error occurred: %s' %s)\n",
    "        "
   ]
  },
  {
   "cell_type": "code",
   "execution_count": 125,
   "metadata": {},
   "outputs": [
    {
     "name": "stdout",
     "output_type": "stream",
     "text": [
      "https://accounts.google.com/o/oauth2/auth?client_id=768255142362-4alnnus62lk9lnplf53th47t0eo59dr8.apps.googleusercontent.com&redirect_uri=urn%3Aietf%3Awg%3Aoauth%3A2.0%3Aoob&scope=https%3A%2F%2Fwww.googleapis.com%2Fauth%2Fgmail.send+https%3A%2F%2Fwww.googleapis.com%2Fauth%2Fuserinfo.email+https%3A%2F%2Fwww.googleapis.com%2Fauth%2Fuserinfo.profile&access_type=offline&response_type=code\n"
     ]
    }
   ],
   "source": [
    "gmail = Gmail()\n",
    "print(gmail.get_autho_uri())"
   ]
  },
  {
   "cell_type": "code",
   "execution_count": 126,
   "metadata": {},
   "outputs": [],
   "source": [
    "credentials = gmail.get_credentials('4/iQDv65cotGFKZew9KgEJfAJVGkqSxIqf2xDfMqqvBVVf5TsXugD9PO0')\n",
    "service = gmail.build_service(credentials)\n",
    "# print(credentials)"
   ]
  },
  {
   "cell_type": "code",
   "execution_count": 127,
   "metadata": {},
   "outputs": [],
   "source": [
    "sender = '199511zc@gmail.com'\n",
    "to = 'cz2465@columbia.edu'\n",
    "subject = 'gmail api test'\n",
    "message_text = 'This is a message sent from gmail api!!'\n",
    "message = gmail.create_message(sender, to, subject, message_text)"
   ]
  },
  {
   "cell_type": "code",
   "execution_count": 128,
   "metadata": {},
   "outputs": [
    {
     "name": "stdout",
     "output_type": "stream",
     "text": [
      "Message Id: 166d186c729d0989\n"
     ]
    },
    {
     "data": {
      "text/plain": [
       "{'id': '166d186c729d0989',\n",
       " 'threadId': '166d186c729d0989',\n",
       " 'labelIds': ['SENT']}"
      ]
     },
     "execution_count": 128,
     "metadata": {},
     "output_type": "execute_result"
    }
   ],
   "source": [
    "gmail.send_message(service, '199511zc@gmail.com', message)"
   ]
  }
 ],
 "metadata": {
  "kernelspec": {
   "display_name": "Python 3",
   "language": "python",
   "name": "python3"
  },
  "language_info": {
   "codemirror_mode": {
    "name": "ipython",
    "version": 3
   },
   "file_extension": ".py",
   "mimetype": "text/x-python",
   "name": "python",
   "nbconvert_exporter": "python",
   "pygments_lexer": "ipython3",
   "version": "3.6.5"
  }
 },
 "nbformat": 4,
 "nbformat_minor": 2
}
